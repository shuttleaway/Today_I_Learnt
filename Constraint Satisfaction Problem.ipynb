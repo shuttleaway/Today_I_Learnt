{
 "cells": [
  {
   "cell_type": "markdown",
   "metadata": {},
   "source": [
    "# Package: Python Constraint"
   ]
  },
  {
   "cell_type": "markdown",
   "metadata": {},
   "source": [
    "Found this neat source code and adapted for logic puzzles\n",
    "\n",
    "https://artificialcognition.github.io/who-owns-the-zebra"
   ]
  },
  {
   "cell_type": "markdown",
   "metadata": {},
   "source": [
    "## Who is the robber?"
   ]
  },
  {
   "cell_type": "markdown",
   "metadata": {},
   "source": [
    "Five people are accused of a robbery. Each gives a statement but only two of the statements are false. \n",
    "\n",
    "\n",
    "This is enough information to know who the robber is. \n",
    "\n",
    "Who is guilty?\n",
    "\n",
    "1.   It was B.\n",
    "2.   A is lying\n",
    "3. D is innocent\n",
    "4. E is innocent\n",
    "5. D is telling the truth\n"
   ]
  },
  {
   "cell_type": "code",
   "execution_count": null,
   "metadata": {},
   "outputs": [],
   "source": [
    "!pip install python-constraint"
   ]
  },
  {
   "cell_type": "code",
   "execution_count": 1,
   "metadata": {},
   "outputs": [],
   "source": [
    "from constraint import *\n",
    "problem = Problem()\n",
    "robber = [\"a\",\"b\",\"c\",\"d\",\"e\"]\n",
    "statements = [\"s1\",\"s2\",\"s3\",\"s4\",\"s5\"]\n",
    "criteria = robber + statements\n",
    "problem.addVariables(criteria,[0,1])"
   ]
  },
  {
   "cell_type": "code",
   "execution_count": 2,
   "metadata": {},
   "outputs": [],
   "source": [
    "problem.addConstraint(ExactSumConstraint(3), statements)\n",
    "problem.addConstraint(ExactSumConstraint(1), robber)\n",
    "#problem.getSolutions()"
   ]
  },
  {
   "cell_type": "code",
   "execution_count": 3,
   "metadata": {},
   "outputs": [],
   "source": [
    "problem.addConstraint(lambda r,s: r==1 if s==1 else r==0,[\"b\",\"s1\"])\n",
    "problem.addConstraint(lambda s1,s2: s1==0 if s2==1 else s1==1,[\"s1\",\"s2\"])\n",
    "problem.addConstraint(lambda r,s: r==0 if s==1 else r==1,[\"d\",\"s3\"])\n",
    "problem.addConstraint(lambda r,s: r==0 if s==1 else r==1,[\"e\",\"s4\"])\n",
    "problem.addConstraint(lambda s1,s2: s1==1 if s2==1 else s1==0,[\"s4\",\"s5\"])"
   ]
  },
  {
   "cell_type": "code",
   "execution_count": 4,
   "metadata": {},
   "outputs": [
    {
     "data": {
      "text/plain": [
       "[{'s1': 0,\n",
       "  's4': 1,\n",
       "  'b': 0,\n",
       "  'e': 0,\n",
       "  's2': 1,\n",
       "  's5': 1,\n",
       "  's3': 0,\n",
       "  'd': 1,\n",
       "  'a': 0,\n",
       "  'c': 0}]"
      ]
     },
     "execution_count": 4,
     "metadata": {},
     "output_type": "execute_result"
    }
   ],
   "source": [
    "problem.getSolutions()"
   ]
  },
  {
   "cell_type": "code",
   "execution_count": null,
   "metadata": {},
   "outputs": [],
   "source": []
  }
 ],
 "metadata": {
  "kernelspec": {
   "display_name": "Python 3",
   "language": "python",
   "name": "python3"
  },
  "language_info": {
   "codemirror_mode": {
    "name": "ipython",
    "version": 3
   },
   "file_extension": ".py",
   "mimetype": "text/x-python",
   "name": "python",
   "nbconvert_exporter": "python",
   "pygments_lexer": "ipython3",
   "version": "3.7.1"
  },
  "toc": {
   "base_numbering": 1,
   "nav_menu": {},
   "number_sections": true,
   "sideBar": true,
   "skip_h1_title": false,
   "title_cell": "Table of Contents",
   "title_sidebar": "Contents",
   "toc_cell": false,
   "toc_position": {},
   "toc_section_display": true,
   "toc_window_display": false
  }
 },
 "nbformat": 4,
 "nbformat_minor": 2
}
